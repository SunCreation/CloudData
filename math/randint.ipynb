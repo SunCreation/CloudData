{
 "cells": [
  {
   "cell_type": "code",
   "execution_count": 1,
   "source": [
    "import os\n",
    "import pandas as pd\n",
    "data_path = 'data/randint/'\n",
    "listdir = os.listdir(data_path)\n",
    "data = {}\n",
    "for i in range(len(listdir)):\n",
    "    data[i] = pd.read_csv(data_path+\"/\"+listdir[i])\n",
    "\n"
   ],
   "outputs": [],
   "metadata": {}
  },
  {
   "cell_type": "code",
   "execution_count": 16,
   "source": [
    "listdir"
   ],
   "outputs": [
    {
     "output_type": "execute_result",
     "data": {
      "text/plain": [
       "['clean_random_0520.csv', 'clean_random_0815.csv']"
      ]
     },
     "metadata": {},
     "execution_count": 16
    }
   ],
   "metadata": {}
  },
  {
   "cell_type": "code",
   "execution_count": 4,
   "source": [
    "from sklearn.model_selection import train_test_split\n",
    "origin = pd.read_csv('data/clean_all_correct.csv')\n",
    "train_index, test_index = train_test_split(range(len(origin)), test_size=0.06, stratify=origin['class'])"
   ],
   "outputs": [],
   "metadata": {}
  },
  {
   "cell_type": "code",
   "execution_count": 6,
   "source": [
    "type(train_index)"
   ],
   "outputs": [
    {
     "output_type": "execute_result",
     "data": {
      "text/plain": [
       "list"
      ]
     },
     "metadata": {},
     "execution_count": 6
    }
   ],
   "metadata": {}
  },
  {
   "cell_type": "code",
   "execution_count": 18,
   "source": [
    "train = origin.loc[train_index][['class','problem','code','answer']]\n",
    "test = origin.loc[test_index]\n"
   ],
   "outputs": [],
   "metadata": {}
  },
  {
   "cell_type": "code",
   "execution_count": 19,
   "source": [
    "# os.mkdir('data/randin')\n",
    "\n",
    "\n",
    "aug = data[1].loc[train_index][['class','problem','code','answer']]\n",
    "train = pd.concat([train,aug], axis=0)\n",
    "    "
   ],
   "outputs": [],
   "metadata": {}
  },
  {
   "cell_type": "code",
   "execution_count": 20,
   "source": [
    "train.to_csv(f'data/randint/concat_0815.csv')"
   ],
   "outputs": [],
   "metadata": {}
  },
  {
   "cell_type": "code",
   "execution_count": 21,
   "source": [
    "train"
   ],
   "outputs": [
    {
     "output_type": "execute_result",
     "data": {
      "text/html": [
       "<div>\n",
       "<style scoped>\n",
       "    .dataframe tbody tr th:only-of-type {\n",
       "        vertical-align: middle;\n",
       "    }\n",
       "\n",
       "    .dataframe tbody tr th {\n",
       "        vertical-align: top;\n",
       "    }\n",
       "\n",
       "    .dataframe thead th {\n",
       "        text-align: right;\n",
       "    }\n",
       "</style>\n",
       "<table border=\"1\" class=\"dataframe\">\n",
       "  <thead>\n",
       "    <tr style=\"text-align: right;\">\n",
       "      <th></th>\n",
       "      <th>class</th>\n",
       "      <th>problem</th>\n",
       "      <th>code</th>\n",
       "      <th>answer</th>\n",
       "    </tr>\n",
       "  </thead>\n",
       "  <tbody>\n",
       "    <tr>\n",
       "      <th>113</th>\n",
       "      <td>8</td>\n",
       "      <td>가로의 길이가 13센티미터, 세로의 길이가 15센티미터인 직사각형이 있습니다. 이 ...</td>\n",
       "      <td>a = 13\\nb = 15\\ny = a * b\\nprint(y)</td>\n",
       "      <td>195</td>\n",
       "    </tr>\n",
       "    <tr>\n",
       "      <th>731</th>\n",
       "      <td>8</td>\n",
       "      <td>가로 30cm, 세로 20cm인 직사각형이 있습니다. 이 직사각형의 넓이는 몇 cm...</td>\n",
       "      <td>a = 30\\nb = 20\\ny = a * b\\nprint(y)</td>\n",
       "      <td>600</td>\n",
       "    </tr>\n",
       "    <tr>\n",
       "      <th>1324</th>\n",
       "      <td>1</td>\n",
       "      <td>문어의 다리는 8개입니다. 문어가 28마리 있다면 다리는 총 몇 개일까요?</td>\n",
       "      <td>a = 8\\nb = 28\\ny = a * b\\nprint(y)</td>\n",
       "      <td>224</td>\n",
       "    </tr>\n",
       "    <tr>\n",
       "      <th>1382</th>\n",
       "      <td>1</td>\n",
       "      <td>은영이의 키는 1 미터 60 센티미터 이고, 미선이의 키는 은영이 보다 2센티미터 ...</td>\n",
       "      <td>a = 1.60\\nb = 2\\nc = 0.01\\nd = b * c\\ny = a + ...</td>\n",
       "      <td>1.62</td>\n",
       "    </tr>\n",
       "    <tr>\n",
       "      <th>1549</th>\n",
       "      <td>1</td>\n",
       "      <td>과일 가게에 멜론이 72개 있습니다. 이 멜론을 하루에 9개씩 판다면 며칠 동안 팔...</td>\n",
       "      <td>from math import ceil\\n\\na = 72\\nb = 9\\ny = ce...</td>\n",
       "      <td>8</td>\n",
       "    </tr>\n",
       "    <tr>\n",
       "      <th>...</th>\n",
       "      <td>...</td>\n",
       "      <td>...</td>\n",
       "      <td>...</td>\n",
       "      <td>...</td>\n",
       "    </tr>\n",
       "    <tr>\n",
       "      <th>1222</th>\n",
       "      <td>1</td>\n",
       "      <td>민화가 가진 테이프의 길이는 1 m 65 cm이고 석우가 가진 테이프의 길이는 2 ...</td>\n",
       "      <td>a = (1 * 100) + 65\\nb = (2 * 100) + 95\\ny = a ...</td>\n",
       "      <td>475</td>\n",
       "    </tr>\n",
       "    <tr>\n",
       "      <th>1106</th>\n",
       "      <td>1</td>\n",
       "      <td>야채가게에 청경채가 65단이 있었는데 15단을 팔았습니다. 남은 청경채는 몇 단이될까?</td>\n",
       "      <td>a = 65\\nb = 15\\ny = a - b\\nprint(y)</td>\n",
       "      <td>14</td>\n",
       "    </tr>\n",
       "    <tr>\n",
       "      <th>2714</th>\n",
       "      <td>1</td>\n",
       "      <td>여자 허들 100m 경기에서는 시작 선으로부터 1300cm 지점에 첫 허들이 놓이고...</td>\n",
       "      <td>a = 1300\\nb = 10\\nc = 850\\nd = 6\\ny = a + c * ...</td>\n",
       "      <td>5550</td>\n",
       "    </tr>\n",
       "    <tr>\n",
       "      <th>939</th>\n",
       "      <td>1</td>\n",
       "      <td>원영이의 한 걸음은 6cm입니다. 원영이가 14걸음을 걸으면 걸은 거리는 몇 cm가...</td>\n",
       "      <td>a = 6\\nb = 14\\ny = a * b\\nprint(y)</td>\n",
       "      <td>60</td>\n",
       "    </tr>\n",
       "    <tr>\n",
       "      <th>765</th>\n",
       "      <td>5</td>\n",
       "      <td>어느 상점에서 초콜릿 2개를 9082원에 판매하고 있습니다. 민정이가 33347원을...</td>\n",
       "      <td>a = 2\\nb = 9082\\nc = 33347\\nd = 9009\\ny = (c -...</td>\n",
       "      <td>10</td>\n",
       "    </tr>\n",
       "  </tbody>\n",
       "</table>\n",
       "<p>5300 rows × 4 columns</p>\n",
       "</div>"
      ],
      "text/plain": [
       "      class                                            problem  \\\n",
       "113       8  가로의 길이가 13센티미터, 세로의 길이가 15센티미터인 직사각형이 있습니다. 이 ...   \n",
       "731       8  가로 30cm, 세로 20cm인 직사각형이 있습니다. 이 직사각형의 넓이는 몇 cm...   \n",
       "1324      1          문어의 다리는 8개입니다. 문어가 28마리 있다면 다리는 총 몇 개일까요?   \n",
       "1382      1  은영이의 키는 1 미터 60 센티미터 이고, 미선이의 키는 은영이 보다 2센티미터 ...   \n",
       "1549      1  과일 가게에 멜론이 72개 있습니다. 이 멜론을 하루에 9개씩 판다면 며칠 동안 팔...   \n",
       "...     ...                                                ...   \n",
       "1222      1  민화가 가진 테이프의 길이는 1 m 65 cm이고 석우가 가진 테이프의 길이는 2 ...   \n",
       "1106      1   야채가게에 청경채가 65단이 있었는데 15단을 팔았습니다. 남은 청경채는 몇 단이될까?   \n",
       "2714      1  여자 허들 100m 경기에서는 시작 선으로부터 1300cm 지점에 첫 허들이 놓이고...   \n",
       "939       1  원영이의 한 걸음은 6cm입니다. 원영이가 14걸음을 걸으면 걸은 거리는 몇 cm가...   \n",
       "765       5  어느 상점에서 초콜릿 2개를 9082원에 판매하고 있습니다. 민정이가 33347원을...   \n",
       "\n",
       "                                                   code answer  \n",
       "113                 a = 13\\nb = 15\\ny = a * b\\nprint(y)    195  \n",
       "731                 a = 30\\nb = 20\\ny = a * b\\nprint(y)    600  \n",
       "1324                 a = 8\\nb = 28\\ny = a * b\\nprint(y)    224  \n",
       "1382  a = 1.60\\nb = 2\\nc = 0.01\\nd = b * c\\ny = a + ...   1.62  \n",
       "1549  from math import ceil\\n\\na = 72\\nb = 9\\ny = ce...      8  \n",
       "...                                                 ...    ...  \n",
       "1222  a = (1 * 100) + 65\\nb = (2 * 100) + 95\\ny = a ...    475  \n",
       "1106                a = 65\\nb = 15\\ny = a - b\\nprint(y)     14  \n",
       "2714  a = 1300\\nb = 10\\nc = 850\\nd = 6\\ny = a + c * ...   5550  \n",
       "939                  a = 6\\nb = 14\\ny = a * b\\nprint(y)     60  \n",
       "765   a = 2\\nb = 9082\\nc = 33347\\nd = 9009\\ny = (c -...     10  \n",
       "\n",
       "[5300 rows x 4 columns]"
      ]
     },
     "metadata": {},
     "execution_count": 21
    }
   ],
   "metadata": {}
  },
  {
   "cell_type": "code",
   "execution_count": 22,
   "source": [
    "test.to_csv('data/randint/val.csv')"
   ],
   "outputs": [],
   "metadata": {}
  }
 ],
 "metadata": {
  "orig_nbformat": 4,
  "language_info": {
   "name": "python",
   "version": "3.8.10",
   "mimetype": "text/x-python",
   "codemirror_mode": {
    "name": "ipython",
    "version": 3
   },
   "pygments_lexer": "ipython3",
   "nbconvert_exporter": "python",
   "file_extension": ".py"
  },
  "kernelspec": {
   "name": "python3",
   "display_name": "Python 3.8.10 64-bit ('Working': venv)"
  },
  "interpreter": {
   "hash": "026aceb1435085fcef523649cdfc9385a4a55dbc5c65435142607853821fa50a"
  }
 },
 "nbformat": 4,
 "nbformat_minor": 2
}